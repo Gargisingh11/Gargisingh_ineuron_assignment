{
 "cells": [
  {
   "cell_type": "markdown",
   "id": "42db0978",
   "metadata": {},
   "source": [
    "# Assignment -2"
   ]
  },
  {
   "cell_type": "code",
   "execution_count": 3,
   "id": "f245edf1",
   "metadata": {},
   "outputs": [
    {
     "name": "stdout",
     "output_type": "stream",
     "text": [
      "6\n",
      "\n",
      "*\n",
      "**\n",
      "***\n",
      "****\n",
      "*****\n",
      "*****\n",
      "****\n",
      "***\n",
      "**\n",
      "*\n"
     ]
    }
   ],
   "source": [
    "#1. Create the below pattern using nested for loop in Python.\n",
    "n=int(input())\n",
    "for i in range(n):\n",
    "    print(\"*\"*i+\"\"*(n-i))\n",
    "for j in range(n-1):\n",
    "    print(\"*\"*(n-1-j))"
   ]
  },
  {
   "cell_type": "code",
   "execution_count": 10,
   "id": "05a29f4d",
   "metadata": {},
   "outputs": [
    {
     "name": "stdout",
     "output_type": "stream",
     "text": [
      "Enter you input: Hello this is Gargi\n"
     ]
    },
    {
     "data": {
      "text/plain": [
       "'igraG si siht olleH'"
      ]
     },
     "execution_count": 10,
     "metadata": {},
     "output_type": "execute_result"
    }
   ],
   "source": [
    "#2. Write a Python program to reverse a word after accepting the input from the user.\n",
    "inp=input(\"Enter you input: \")\n",
    "str=inp[::-1]\n",
    "str\n"
   ]
  },
  {
   "cell_type": "code",
   "execution_count": null,
   "id": "e9ea91c9",
   "metadata": {},
   "outputs": [],
   "source": []
  }
 ],
 "metadata": {
  "kernelspec": {
   "display_name": "Python 3",
   "language": "python",
   "name": "python3"
  },
  "language_info": {
   "codemirror_mode": {
    "name": "ipython",
    "version": 3
   },
   "file_extension": ".py",
   "mimetype": "text/x-python",
   "name": "python",
   "nbconvert_exporter": "python",
   "pygments_lexer": "ipython3",
   "version": "3.8.3"
  }
 },
 "nbformat": 4,
 "nbformat_minor": 5
}
