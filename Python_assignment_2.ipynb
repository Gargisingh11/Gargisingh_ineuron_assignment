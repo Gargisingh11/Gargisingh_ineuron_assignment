{
 "cells": [
  {
   "cell_type": "code",
   "execution_count": 3,
   "id": "c035a69f",
   "metadata": {},
   "outputs": [
    {
     "name": "stdout",
     "output_type": "stream",
     "text": [
      "6\n",
      "\n",
      "*\n",
      "**\n",
      "***\n",
      "****\n",
      "*****\n",
      "*****\n",
      "****\n",
      "***\n",
      "**\n",
      "*\n"
     ]
    }
   ],
   "source": [
    "#1. Create the below pattern using nested for loop in Python.\n",
    "n=int(input())\n",
    "for i in range(n):\n",
    "    print(\"*\"*i+\"\"*(n-i))\n",
    "for j in range(n-1):\n",
    "    print(\"*\"*(n-1-j))"
   ]
  },
  {
   "cell_type": "code",
   "execution_count": 9,
   "id": "c38cfc89",
   "metadata": {},
   "outputs": [
    {
     "name": "stdout",
     "output_type": "stream",
     "text": [
      "Enter you input:This is Gargi Singh\n"
     ]
    },
    {
     "data": {
      "text/plain": [
       "'hgniS igraG si sihT'"
      ]
     },
     "execution_count": 9,
     "metadata": {},
     "output_type": "execute_result"
    }
   ],
   "source": [
    "#2. Write a Python program to reverse a word after accepting the input from the user.\n",
    "inp=input(\"Enter you input:\")\n",
    "str=inp[::-1]\n",
    "str\n"
   ]
  },
  {
   "cell_type": "code",
   "execution_count": null,
   "id": "a2c3d3f7",
   "metadata": {},
   "outputs": [],
   "source": []
  }
 ],
 "metadata": {
  "kernelspec": {
   "display_name": "Python 3",
   "language": "python",
   "name": "python3"
  },
  "language_info": {
   "codemirror_mode": {
    "name": "ipython",
    "version": 3
   },
   "file_extension": ".py",
   "mimetype": "text/x-python",
   "name": "python",
   "nbconvert_exporter": "python",
   "pygments_lexer": "ipython3",
   "version": "3.8.3"
  }
 },
 "nbformat": 4,
 "nbformat_minor": 5
}
