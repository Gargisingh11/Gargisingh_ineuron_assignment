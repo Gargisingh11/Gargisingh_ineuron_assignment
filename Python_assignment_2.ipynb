{
 "cells": [
  {
   "cell_type": "code",
   "execution_count": 1,
   "source": [
    "#1. Create the below pattern using nested for loop in Python.\r\n",
    "n=int(input())\r\n",
    "for i in range(n):\r\n",
    "    print(\"*\"*i+\"\"*(n-i))\r\n",
    "for j in range(n-1):\r\n",
    "    print(\"*\"*(n-1-j))"
   ],
   "outputs": [],
   "metadata": {}
  },
  {
   "cell_type": "code",
   "execution_count": null,
   "source": [
    "#2. Write a Python program to reverse a word after accepting the input from the user.\r\n",
    "inp=input(\"Enter you input:\")\r\n",
    "str=inp[::-1]\r\n",
    "str"
   ],
   "outputs": [],
   "metadata": {}
  },
  {
   "cell_type": "code",
   "execution_count": null,
   "source": [],
   "outputs": [],
   "metadata": {}
  }
 ],
 "metadata": {
  "orig_nbformat": 4,
  "language_info": {
   "name": "python",
   "version": "3.8.3",
   "mimetype": "text/x-python",
   "codemirror_mode": {
    "name": "ipython",
    "version": 3
   },
   "pygments_lexer": "ipython3",
   "nbconvert_exporter": "python",
   "file_extension": ".py"
  },
  "kernelspec": {
   "name": "python3",
   "display_name": "Python 3.8.3 64-bit ('base': conda)"
  },
  "interpreter": {
   "hash": "b3ba2566441a7c06988d0923437866b63cedc61552a5af99d1f4fb67d367b25f"
  }
 },
 "nbformat": 4,
 "nbformat_minor": 2
}