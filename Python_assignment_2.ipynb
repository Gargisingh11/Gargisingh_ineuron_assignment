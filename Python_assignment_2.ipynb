{
 "cells": [
  {
   "cell_type": "markdown",
   "id": "42db0978",
   "metadata": {},
   "source": [
    "# Assignment -2"
   ]
  },
  {
   "cell_type": "code",
   "execution_count": 3,
<<<<<<< HEAD
   "id": "f245edf1",
   "metadata": {},
=======
   "source": [
    "#1. Create the below pattern using nested for loop in Python.\r\n",
    "n=int(input())\r\n",
    "for i in range(n):\r\n",
    "    print(\"*\"*i+\"\"*(n-i))\r\n",
    "for j in range(n-1):\r\n",
    "    print(\"*\"*(n-1-j))"
   ],
>>>>>>> 46a49c12c351018575a9b43585adb34f19fd8415
   "outputs": [
    {
     "output_type": "stream",
     "name": "stdout",
     "text": [
      "6\n",
      "\n",
      "*\n",
      "**\n",
      "***\n",
      "****\n",
      "*****\n",
      "*****\n",
      "****\n",
      "***\n",
      "**\n",
      "*\n"
     ]
    }
   ],
   "metadata": {}
  },
  {
   "cell_type": "code",
<<<<<<< HEAD
   "execution_count": 10,
   "id": "05a29f4d",
   "metadata": {},
=======
   "execution_count": 9,
   "source": [
    "#2. Write a Python program to reverse a word after accepting the input from the user.\r\n",
    "inp=input(\"Enter you input :\")\r\n",
    "str=inp[::-1]\r\n",
    "str\r\n"
   ],
>>>>>>> 46a49c12c351018575a9b43585adb34f19fd8415
   "outputs": [
    {
     "output_type": "stream",
     "name": "stdout",
     "text": [
      "Enter you input: Hello this is Gargi\n"
     ]
    },
    {
     "output_type": "execute_result",
     "data": {
      "text/plain": [
       "'igraG si siht olleH'"
      ]
     },
<<<<<<< HEAD
     "execution_count": 10,
=======
>>>>>>> 46a49c12c351018575a9b43585adb34f19fd8415
     "metadata": {},
     "execution_count": 9
    }
   ],
<<<<<<< HEAD
   "source": [
    "#2. Write a Python program to reverse a word after accepting the input from the user.\n",
    "inp=input(\"Enter you input: \")\n",
    "str=inp[::-1]\n",
    "str\n"
   ]
=======
   "metadata": {}
>>>>>>> 46a49c12c351018575a9b43585adb34f19fd8415
  },
  {
   "cell_type": "code",
   "execution_count": null,
<<<<<<< HEAD
   "id": "e9ea91c9",
   "metadata": {},
=======
   "source": [],
>>>>>>> 46a49c12c351018575a9b43585adb34f19fd8415
   "outputs": [],
   "metadata": {}
  }
 ],
 "metadata": {
  "kernelspec": {
   "display_name": "Python 3",
   "language": "python",
   "name": "python3"
  },
  "language_info": {
   "codemirror_mode": {
    "name": "ipython",
    "version": 3
   },
   "file_extension": ".py",
   "mimetype": "text/x-python",
   "name": "python",
   "nbconvert_exporter": "python",
   "pygments_lexer": "ipython3",
   "version": "3.8.3"
  }
 },
 "nbformat": 4,
 "nbformat_minor": 5
}